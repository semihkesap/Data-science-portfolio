{
 "cells": [
  {
   "cell_type": "code",
   "execution_count": 13,
   "id": "bac63fd5",
   "metadata": {},
   "outputs": [],
   "source": [
    "import pandas as pd\n",
    "import numpy as np\n",
    "from sklearn.model_selection import train_test_split\n",
    "from sklearn.ensemble import RandomForestClassifier\n",
    "from sklearn.preprocessing import LabelEncoder\n",
    "import seaborn as sns\n",
    "import matplotlib.pyplot as plt\n",
    "from sklearn.linear_model import LogisticRegression\n",
    "from sklearn.metrics import classification_report"
   ]
  },
  {
   "cell_type": "code",
   "execution_count": 14,
   "id": "bf5f6db3",
   "metadata": {},
   "outputs": [],
   "source": [
    "# Load and encode\n",
    "df = pd.read_csv('semih_gaming_analytics.csv')\n",
    "le = LabelEncoder()\n",
    "categorical_cols = ['Gender', 'GameGenre', 'GameDifficulty', 'EngagementLevel', 'Location']\n",
    "for col in categorical_cols:\n",
    "    if col in df.columns:\n",
    "        df[col] = le.fit_transform(df[col])"
   ]
  },
  {
   "cell_type": "code",
   "execution_count": 15,
   "id": "c019efff",
   "metadata": {},
   "outputs": [],
   "source": [
    "# Define churn\n",
    "X = df.drop(['EngagementLevel', 'PlayerID'], axis=1)\n",
    "y = (df['EngagementLevel'] > 0).astype(int)  # 1 = churned, 0 = active\n",
    "X_train, X_test, y_train, y_test = train_test_split(X, y, test_size=0.2, random_state=42)"
   ]
  },
  {
   "cell_type": "code",
   "execution_count": 16,
   "id": "68b66feb",
   "metadata": {},
   "outputs": [],
   "source": [
    "# Feature Engineering\n",
    "X_train['TotalPlayTime'] = X_train['PlayTimeHours'] * X_train['SessionsPerWeek']\n",
    "X_test['TotalPlayTime'] = X_test['PlayTimeHours'] * X_test['SessionsPerWeek']\n",
    "numeric_cols = X_train.select_dtypes(include=[np.number]).columns\n",
    "X_train = X_train[numeric_cols]\n",
    "X_test = X_test[numeric_cols]"
   ]
  },
  {
   "cell_type": "code",
   "execution_count": 17,
   "id": "27a733d5",
   "metadata": {},
   "outputs": [
    {
     "name": "stdout",
     "output_type": "stream",
     "text": [
      "Churn Prediction Accuracy: 0.88\n",
      "Feature Coefficients:\n",
      " Age                          0.003621\n",
      "Gender                       0.016123\n",
      "Location                     0.005990\n",
      "GameGenre                    0.011793\n",
      "PlayTimeHours               -0.003203\n",
      "InGamePurchases             -0.061746\n",
      "GameDifficulty               0.000162\n",
      "SessionsPerWeek             -0.355408\n",
      "AvgSessionDurationMinutes   -0.038752\n",
      "PlayerLevel                 -0.003330\n",
      "AchievementsUnlocked        -0.007744\n",
      "progression_rate             0.003858\n",
      "TotalPlayTime               -0.000012\n",
      "dtype: float64\n",
      "\n",
      "Classification Report:\n",
      "               precision    recall  f1-score   support\n",
      "\n",
      "           0       0.71      0.91      0.80      2035\n",
      "           1       0.97      0.87      0.92      5972\n",
      "\n",
      "    accuracy                           0.88      8007\n",
      "   macro avg       0.84      0.89      0.86      8007\n",
      "weighted avg       0.90      0.88      0.89      8007\n",
      "\n"
     ]
    }
   ],
   "source": [
    "# Model\n",
    "model = LogisticRegression(max_iter=1000, class_weight='balanced')\n",
    "model.fit(X_train, y_train)\n",
    "print(f\"Churn Prediction Accuracy: {model.score(X_test, y_test):.2f}\")\n",
    "print(\"Feature Coefficients:\\n\", pd.Series(model.coef_[0], index=X_train.columns))\n",
    "print(\"\\nClassification Report:\\n\", classification_report(y_test, model.predict(X_test)))"
   ]
  },
  {
   "cell_type": "code",
   "execution_count": 18,
   "id": "b0718fa2",
   "metadata": {},
   "outputs": [
    {
     "data": {
      "image/png": "[encoded data removed]",
      "text/plain": [
       "<Figure size 640x480 with 1 Axes>"
      ]
     },
     "metadata": {},
     "output_type": "display_data"
    }
   ],
   "source": [
    "# Visual\n",
    "sns.barplot(x='churn', y='SessionsPerWeek', data=df.assign(churn=(df['EngagementLevel'] > 0).astype(int)))\n",
    "plt.axhline(y=10, color='r', linestyle='--', label='Retention Threshold')\n",
    "plt.title('Sessions per Week by Churn Status')\n",
    "plt.legend()\n",
    "plt.savefig('churn_by_sessions_with_threshold.png')\n",
    "plt.show()"
   ]
  }
 ],
 "metadata": {
  "kernelspec": {
   "display_name": "Python 3 (ipykernel)",
   "language": "python",
   "name": "python3"
  },
  "language_info": {
   "codemirror_mode": {
    "name": "ipython",
    "version": 3
   },
   "file_extension": ".py",
   "mimetype": "text/x-python",
   "name": "python",
   "nbconvert_exporter": "python",
   "pygments_lexer": "ipython3",
   "version": "3.11.4"
  }
 },
 "nbformat": 4,
 "nbformat_minor": 5
}
